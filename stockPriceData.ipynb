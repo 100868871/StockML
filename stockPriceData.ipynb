{
 "cells": [
  {
   "cell_type": "code",
   "execution_count": 7,
   "metadata": {},
   "outputs": [],
   "source": [
    "import datetime as dt\n",
    "import matplotlib.pyplot as plt\n",
    "from matplotlib import style\n",
    "\n",
    "import mplfinance as mpf\n",
    "import pandas as pd\n",
    "import pandas_datareader.data as web"
   ]
  },
  {
   "cell_type": "code",
   "execution_count": 8,
   "metadata": {},
   "outputs": [],
   "source": [
    "# Fetch data directly from yahoo finance(also can do for IEX, )"
   ]
  },
  {
   "cell_type": "code",
   "execution_count": 9,
   "metadata": {},
   "outputs": [],
   "source": [
    "style.use('ggplot')"
   ]
  },
  {
   "cell_type": "code",
   "execution_count": 10,
   "metadata": {},
   "outputs": [],
   "source": [
    "start = dt.datetime(2000,1,1)\n",
    "end = dt.datetime(2016,12,31)"
   ]
  },
  {
   "cell_type": "code",
   "execution_count": 11,
   "metadata": {},
   "outputs": [],
   "source": [
    "df = web.DataReader('TSLA','yahoo', start, end)"
   ]
  },
  {
   "cell_type": "code",
   "execution_count": 12,
   "metadata": {},
   "outputs": [
    {
     "data": {
      "text/html": [
       "<div>\n",
       "<style scoped>\n",
       "    .dataframe tbody tr th:only-of-type {\n",
       "        vertical-align: middle;\n",
       "    }\n",
       "\n",
       "    .dataframe tbody tr th {\n",
       "        vertical-align: top;\n",
       "    }\n",
       "\n",
       "    .dataframe thead th {\n",
       "        text-align: right;\n",
       "    }\n",
       "</style>\n",
       "<table border=\"1\" class=\"dataframe\">\n",
       "  <thead>\n",
       "    <tr style=\"text-align: right;\">\n",
       "      <th></th>\n",
       "      <th>High</th>\n",
       "      <th>Low</th>\n",
       "      <th>Open</th>\n",
       "      <th>Close</th>\n",
       "      <th>Volume</th>\n",
       "      <th>Adj Close</th>\n",
       "    </tr>\n",
       "    <tr>\n",
       "      <th>Date</th>\n",
       "      <th></th>\n",
       "      <th></th>\n",
       "      <th></th>\n",
       "      <th></th>\n",
       "      <th></th>\n",
       "      <th></th>\n",
       "    </tr>\n",
       "  </thead>\n",
       "  <tbody>\n",
       "    <tr>\n",
       "      <th>2010-06-29</th>\n",
       "      <td>25.00</td>\n",
       "      <td>17.540001</td>\n",
       "      <td>19.000000</td>\n",
       "      <td>23.889999</td>\n",
       "      <td>18766300</td>\n",
       "      <td>23.889999</td>\n",
       "    </tr>\n",
       "    <tr>\n",
       "      <th>2010-06-30</th>\n",
       "      <td>30.42</td>\n",
       "      <td>23.299999</td>\n",
       "      <td>25.790001</td>\n",
       "      <td>23.830000</td>\n",
       "      <td>17187100</td>\n",
       "      <td>23.830000</td>\n",
       "    </tr>\n",
       "    <tr>\n",
       "      <th>2010-07-01</th>\n",
       "      <td>25.92</td>\n",
       "      <td>20.270000</td>\n",
       "      <td>25.000000</td>\n",
       "      <td>21.959999</td>\n",
       "      <td>8218800</td>\n",
       "      <td>21.959999</td>\n",
       "    </tr>\n",
       "    <tr>\n",
       "      <th>2010-07-02</th>\n",
       "      <td>23.10</td>\n",
       "      <td>18.709999</td>\n",
       "      <td>23.000000</td>\n",
       "      <td>19.200001</td>\n",
       "      <td>5139800</td>\n",
       "      <td>19.200001</td>\n",
       "    </tr>\n",
       "    <tr>\n",
       "      <th>2010-07-06</th>\n",
       "      <td>20.00</td>\n",
       "      <td>15.830000</td>\n",
       "      <td>20.000000</td>\n",
       "      <td>16.110001</td>\n",
       "      <td>6866900</td>\n",
       "      <td>16.110001</td>\n",
       "    </tr>\n",
       "  </tbody>\n",
       "</table>\n",
       "</div>"
      ],
      "text/plain": [
       "             High        Low       Open      Close    Volume  Adj Close\n",
       "Date                                                                   \n",
       "2010-06-29  25.00  17.540001  19.000000  23.889999  18766300  23.889999\n",
       "2010-06-30  30.42  23.299999  25.790001  23.830000  17187100  23.830000\n",
       "2010-07-01  25.92  20.270000  25.000000  21.959999   8218800  21.959999\n",
       "2010-07-02  23.10  18.709999  23.000000  19.200001   5139800  19.200001\n",
       "2010-07-06  20.00  15.830000  20.000000  16.110001   6866900  16.110001"
      ]
     },
     "execution_count": 12,
     "metadata": {},
     "output_type": "execute_result"
    }
   ],
   "source": [
    "df.head() # adjust close is to split stock "
   ]
  },
  {
   "cell_type": "code",
   "execution_count": 13,
   "metadata": {},
   "outputs": [],
   "source": [
    "# df plot"
   ]
  },
  {
   "cell_type": "code",
   "execution_count": 14,
   "metadata": {},
   "outputs": [
    {
     "data": {
      "text/plain": [
       "<matplotlib.axes._subplots.AxesSubplot at 0x10610f6d0>"
      ]
     },
     "execution_count": 14,
     "metadata": {},
     "output_type": "execute_result"
    },
    {
     "data": {
      "image/png": "[encoded data removed]",
      "text/plain": [
       "<Figure size 432x288 with 1 Axes>"
      ]
     },
     "metadata": {
      "needs_background": "light"
     },
     "output_type": "display_data"
    }
   ],
   "source": [
    "%matplotlib inline\n",
    "df.plot()"
   ]
  },
  {
   "cell_type": "code",
   "execution_count": 15,
   "metadata": {},
   "outputs": [],
   "source": [
    "df['100ma']=df['Adj Close'].rolling(window = 100).mean()"
   ]
  },
  {
   "cell_type": "code",
   "execution_count": 16,
   "metadata": {
    "collapsed": true,
    "jupyter": {
     "outputs_hidden": true
    }
   },
   "outputs": [
    {
     "data": {
      "text/html": [
       "<div>\n",
       "<style scoped>\n",
       "    .dataframe tbody tr th:only-of-type {\n",
       "        vertical-align: middle;\n",
       "    }\n",
       "\n",
       "    .dataframe tbody tr th {\n",
       "        vertical-align: top;\n",
       "    }\n",
       "\n",
       "    .dataframe thead th {\n",
       "        text-align: right;\n",
       "    }\n",
       "</style>\n",
       "<table border=\"1\" class=\"dataframe\">\n",
       "  <thead>\n",
       "    <tr style=\"text-align: right;\">\n",
       "      <th></th>\n",
       "      <th>High</th>\n",
       "      <th>Low</th>\n",
       "      <th>Open</th>\n",
       "      <th>Close</th>\n",
       "      <th>Volume</th>\n",
       "      <th>Adj Close</th>\n",
       "      <th>100ma</th>\n",
       "    </tr>\n",
       "    <tr>\n",
       "      <th>Date</th>\n",
       "      <th></th>\n",
       "      <th></th>\n",
       "      <th></th>\n",
       "      <th></th>\n",
       "      <th></th>\n",
       "      <th></th>\n",
       "      <th></th>\n",
       "    </tr>\n",
       "  </thead>\n",
       "  <tbody>\n",
       "    <tr>\n",
       "      <th>2010-11-17</th>\n",
       "      <td>30.750000</td>\n",
       "      <td>28.610001</td>\n",
       "      <td>30.200001</td>\n",
       "      <td>29.490000</td>\n",
       "      <td>750000</td>\n",
       "      <td>29.490000</td>\n",
       "      <td>20.9879</td>\n",
       "    </tr>\n",
       "    <tr>\n",
       "      <th>2010-11-18</th>\n",
       "      <td>30.740000</td>\n",
       "      <td>28.920000</td>\n",
       "      <td>30.670000</td>\n",
       "      <td>29.889999</td>\n",
       "      <td>956100</td>\n",
       "      <td>29.889999</td>\n",
       "      <td>21.0479</td>\n",
       "    </tr>\n",
       "    <tr>\n",
       "      <th>2010-11-19</th>\n",
       "      <td>31.370001</td>\n",
       "      <td>29.700001</td>\n",
       "      <td>30.160000</td>\n",
       "      <td>30.990000</td>\n",
       "      <td>1150500</td>\n",
       "      <td>30.990000</td>\n",
       "      <td>21.1195</td>\n",
       "    </tr>\n",
       "    <tr>\n",
       "      <th>2010-11-22</th>\n",
       "      <td>33.450001</td>\n",
       "      <td>31.500000</td>\n",
       "      <td>31.570000</td>\n",
       "      <td>33.400002</td>\n",
       "      <td>1529700</td>\n",
       "      <td>33.400002</td>\n",
       "      <td>21.2339</td>\n",
       "    </tr>\n",
       "    <tr>\n",
       "      <th>2010-11-23</th>\n",
       "      <td>35.680000</td>\n",
       "      <td>32.189999</td>\n",
       "      <td>33.290001</td>\n",
       "      <td>34.570000</td>\n",
       "      <td>1577800</td>\n",
       "      <td>34.570000</td>\n",
       "      <td>21.3876</td>\n",
       "    </tr>\n",
       "    <tr>\n",
       "      <th>...</th>\n",
       "      <td>...</td>\n",
       "      <td>...</td>\n",
       "      <td>...</td>\n",
       "      <td>...</td>\n",
       "      <td>...</td>\n",
       "      <td>...</td>\n",
       "      <td>...</td>\n",
       "    </tr>\n",
       "    <tr>\n",
       "      <th>2016-12-23</th>\n",
       "      <td>213.449997</td>\n",
       "      <td>207.710007</td>\n",
       "      <td>208.000000</td>\n",
       "      <td>213.339996</td>\n",
       "      <td>4670500</td>\n",
       "      <td>213.339996</td>\n",
       "      <td>202.6190</td>\n",
       "    </tr>\n",
       "    <tr>\n",
       "      <th>2016-12-27</th>\n",
       "      <td>222.250000</td>\n",
       "      <td>214.419998</td>\n",
       "      <td>214.880005</td>\n",
       "      <td>219.529999</td>\n",
       "      <td>5915700</td>\n",
       "      <td>219.529999</td>\n",
       "      <td>202.5082</td>\n",
       "    </tr>\n",
       "    <tr>\n",
       "      <th>2016-12-28</th>\n",
       "      <td>223.800003</td>\n",
       "      <td>217.199997</td>\n",
       "      <td>221.529999</td>\n",
       "      <td>219.740005</td>\n",
       "      <td>3782500</td>\n",
       "      <td>219.740005</td>\n",
       "      <td>202.4053</td>\n",
       "    </tr>\n",
       "    <tr>\n",
       "      <th>2016-12-29</th>\n",
       "      <td>219.199997</td>\n",
       "      <td>214.119995</td>\n",
       "      <td>218.559998</td>\n",
       "      <td>214.679993</td>\n",
       "      <td>4045000</td>\n",
       "      <td>214.679993</td>\n",
       "      <td>202.2905</td>\n",
       "    </tr>\n",
       "    <tr>\n",
       "      <th>2016-12-30</th>\n",
       "      <td>217.500000</td>\n",
       "      <td>211.679993</td>\n",
       "      <td>216.300003</td>\n",
       "      <td>213.690002</td>\n",
       "      <td>4642600</td>\n",
       "      <td>213.690002</td>\n",
       "      <td>202.1366</td>\n",
       "    </tr>\n",
       "  </tbody>\n",
       "</table>\n",
       "<p>1541 rows × 7 columns</p>\n",
       "</div>"
      ],
      "text/plain": [
       "                  High         Low        Open       Close   Volume  \\\n",
       "Date                                                                  \n",
       "2010-11-17   30.750000   28.610001   30.200001   29.490000   750000   \n",
       "2010-11-18   30.740000   28.920000   30.670000   29.889999   956100   \n",
       "2010-11-19   31.370001   29.700001   30.160000   30.990000  1150500   \n",
       "2010-11-22   33.450001   31.500000   31.570000   33.400002  1529700   \n",
       "2010-11-23   35.680000   32.189999   33.290001   34.570000  1577800   \n",
       "...                ...         ...         ...         ...      ...   \n",
       "2016-12-23  213.449997  207.710007  208.000000  213.339996  4670500   \n",
       "2016-12-27  222.250000  214.419998  214.880005  219.529999  5915700   \n",
       "2016-12-28  223.800003  217.199997  221.529999  219.740005  3782500   \n",
       "2016-12-29  219.199997  214.119995  218.559998  214.679993  4045000   \n",
       "2016-12-30  217.500000  211.679993  216.300003  213.690002  4642600   \n",
       "\n",
       "             Adj Close     100ma  \n",
       "Date                              \n",
       "2010-11-17   29.490000   20.9879  \n",
       "2010-11-18   29.889999   21.0479  \n",
       "2010-11-19   30.990000   21.1195  \n",
       "2010-11-22   33.400002   21.2339  \n",
       "2010-11-23   34.570000   21.3876  \n",
       "...                ...       ...  \n",
       "2016-12-23  213.339996  202.6190  \n",
       "2016-12-27  219.529999  202.5082  \n",
       "2016-12-28  219.740005  202.4053  \n",
       "2016-12-29  214.679993  202.2905  \n",
       "2016-12-30  213.690002  202.1366  \n",
       "\n",
       "[1541 rows x 7 columns]"
      ]
     },
     "execution_count": 16,
     "metadata": {},
     "output_type": "execute_result"
    }
   ],
   "source": [
    "df.dropna()"
   ]
  },
  {
   "cell_type": "code",
   "execution_count": 17,
   "metadata": {},
   "outputs": [],
   "source": [
    "# graph everything in 2 subplot"
   ]
  },
  {
   "cell_type": "code",
   "execution_count": 18,
   "metadata": {},
   "outputs": [
    {
     "data": {
      "text/plain": [
       "<BarContainer object of 1640 artists>"
      ]
     },
     "execution_count": 18,
     "metadata": {},
     "output_type": "execute_result"
    },
    {
     "data": {
      "image/png": "[encoded data removed]",
      "text/plain": [
       "<Figure size 432x288 with 2 Axes>"
      ]
     },
     "metadata": {
      "needs_background": "light"
     },
     "output_type": "display_data"
    }
   ],
   "source": [
    "%matplotlib inline\n",
    "ax1 = plt.subplot2grid((6,1),(0,0),rowspan=5, colspan = 1)\n",
    "ax2 = plt.subplot2grid((6,1),(5,0),rowspan=1, colspan = 1, sharex=ax1)\n",
    "\n",
    "ax1.plot(df.index,df['Adj Close'])\n",
    "ax1.plot(df.index,df['100ma'])\n",
    "ax2.bar(df.index,df['Volume'])\n"
   ]
  },
  {
   "cell_type": "code",
   "execution_count": 19,
   "metadata": {},
   "outputs": [],
   "source": [
    "# resample data in different frequency in Panda"
   ]
  },
  {
   "cell_type": "code",
   "execution_count": 24,
   "metadata": {},
   "outputs": [],
   "source": [
    "# generate the OHLC directly from a higher frequency data \n",
    "df_ohlc = df['Adj Close'].resample('10D').ohlc() # you can do mean, sum \n",
    "\n",
    "# generate the total volume traded in 10 days \n",
    "df_volume= df['Volume'].resample('10D').sum() # you can do mean, sum "
   ]
  },
  {
   "cell_type": "code",
   "execution_count": 27,
   "metadata": {
    "collapsed": true,
    "jupyter": {
     "outputs_hidden": true
    }
   },
   "outputs": [
    {
     "data": {
      "text/html": [
       "<div>\n",
       "<style scoped>\n",
       "    .dataframe tbody tr th:only-of-type {\n",
       "        vertical-align: middle;\n",
       "    }\n",
       "\n",
       "    .dataframe tbody tr th {\n",
       "        vertical-align: top;\n",
       "    }\n",
       "\n",
       "    .dataframe thead th {\n",
       "        text-align: right;\n",
       "    }\n",
       "</style>\n",
       "<table border=\"1\" class=\"dataframe\">\n",
       "  <thead>\n",
       "    <tr style=\"text-align: right;\">\n",
       "      <th></th>\n",
       "      <th>open</th>\n",
       "      <th>high</th>\n",
       "      <th>low</th>\n",
       "      <th>close</th>\n",
       "    </tr>\n",
       "    <tr>\n",
       "      <th>Date</th>\n",
       "      <th></th>\n",
       "      <th></th>\n",
       "      <th></th>\n",
       "      <th></th>\n",
       "    </tr>\n",
       "  </thead>\n",
       "  <tbody>\n",
       "    <tr>\n",
       "      <th>2010-06-29</th>\n",
       "      <td>23.889999</td>\n",
       "      <td>23.889999</td>\n",
       "      <td>15.800000</td>\n",
       "      <td>17.459999</td>\n",
       "    </tr>\n",
       "    <tr>\n",
       "      <th>2010-07-09</th>\n",
       "      <td>17.400000</td>\n",
       "      <td>20.639999</td>\n",
       "      <td>17.049999</td>\n",
       "      <td>20.639999</td>\n",
       "    </tr>\n",
       "    <tr>\n",
       "      <th>2010-07-19</th>\n",
       "      <td>21.910000</td>\n",
       "      <td>21.910000</td>\n",
       "      <td>20.219999</td>\n",
       "      <td>20.719999</td>\n",
       "    </tr>\n",
       "    <tr>\n",
       "      <th>2010-07-29</th>\n",
       "      <td>20.350000</td>\n",
       "      <td>21.950001</td>\n",
       "      <td>19.590000</td>\n",
       "      <td>19.590000</td>\n",
       "    </tr>\n",
       "    <tr>\n",
       "      <th>2010-08-08</th>\n",
       "      <td>19.600000</td>\n",
       "      <td>19.600000</td>\n",
       "      <td>17.600000</td>\n",
       "      <td>19.150000</td>\n",
       "    </tr>\n",
       "    <tr>\n",
       "      <th>...</th>\n",
       "      <td>...</td>\n",
       "      <td>...</td>\n",
       "      <td>...</td>\n",
       "      <td>...</td>\n",
       "    </tr>\n",
       "    <tr>\n",
       "      <th>2016-11-14</th>\n",
       "      <td>181.449997</td>\n",
       "      <td>193.139999</td>\n",
       "      <td>181.449997</td>\n",
       "      <td>193.139999</td>\n",
       "    </tr>\n",
       "    <tr>\n",
       "      <th>2016-11-24</th>\n",
       "      <td>196.649994</td>\n",
       "      <td>196.649994</td>\n",
       "      <td>181.470001</td>\n",
       "      <td>181.470001</td>\n",
       "    </tr>\n",
       "    <tr>\n",
       "      <th>2016-12-04</th>\n",
       "      <td>186.800003</td>\n",
       "      <td>198.149994</td>\n",
       "      <td>185.850006</td>\n",
       "      <td>198.149994</td>\n",
       "    </tr>\n",
       "    <tr>\n",
       "      <th>2016-12-14</th>\n",
       "      <td>198.690002</td>\n",
       "      <td>213.339996</td>\n",
       "      <td>197.580002</td>\n",
       "      <td>213.339996</td>\n",
       "    </tr>\n",
       "    <tr>\n",
       "      <th>2016-12-24</th>\n",
       "      <td>219.529999</td>\n",
       "      <td>219.740005</td>\n",
       "      <td>213.690002</td>\n",
       "      <td>213.690002</td>\n",
       "    </tr>\n",
       "  </tbody>\n",
       "</table>\n",
       "<p>238 rows × 4 columns</p>\n",
       "</div>"
      ],
      "text/plain": [
       "                  open        high         low       close\n",
       "Date                                                      \n",
       "2010-06-29   23.889999   23.889999   15.800000   17.459999\n",
       "2010-07-09   17.400000   20.639999   17.049999   20.639999\n",
       "2010-07-19   21.910000   21.910000   20.219999   20.719999\n",
       "2010-07-29   20.350000   21.950001   19.590000   19.590000\n",
       "2010-08-08   19.600000   19.600000   17.600000   19.150000\n",
       "...                ...         ...         ...         ...\n",
       "2016-11-14  181.449997  193.139999  181.449997  193.139999\n",
       "2016-11-24  196.649994  196.649994  181.470001  181.470001\n",
       "2016-12-04  186.800003  198.149994  185.850006  198.149994\n",
       "2016-12-14  198.690002  213.339996  197.580002  213.339996\n",
       "2016-12-24  219.529999  219.740005  213.690002  213.690002\n",
       "\n",
       "[238 rows x 4 columns]"
      ]
     },
     "execution_count": 27,
     "metadata": {},
     "output_type": "execute_result"
    }
   ],
   "source": [
    "df_ohlc"
   ]
  },
  {
   "cell_type": "code",
   "execution_count": 33,
   "metadata": {},
   "outputs": [],
   "source": [
    "# capitalize the previous data column to match the data required by mpf\n",
    "df_ohlc.columns = [x.capitalize() for x in df_ohlc.columns]"
   ]
  },
  {
   "cell_type": "code",
   "execution_count": 34,
   "metadata": {},
   "outputs": [
    {
     "data": {
      "image/png": "[encoded data removed]",
      "text/plain": [
       "<Figure size 576x414 with 2 Axes>"
      ]
     },
     "metadata": {
      "needs_background": "light"
     },
     "output_type": "display_data"
    }
   ],
   "source": [
    "# plot the candle stick \n",
    "mpf.plot(df_ohlc, type='candle', style='charles',\n",
    "            title='tesla 10D')"
   ]
  },
  {
   "cell_type": "code",
   "execution_count": null,
   "metadata": {},
   "outputs": [],
   "source": []
  },
  {
   "cell_type": "code",
   "execution_count": null,
   "metadata": {},
   "outputs": [],
   "source": []
  }
 ],
 "metadata": {
  "kernelspec": {
   "display_name": "Python 3",
   "language": "python",
   "name": "python3"
  },
  "language_info": {
   "codemirror_mode": {
    "name": "ipython",
    "version": 3
   },
   "file_extension": ".py",
   "mimetype": "text/x-python",
   "name": "python",
   "nbconvert_exporter": "python",
   "pygments_lexer": "ipython3",
   "version": "3.7.7"
  }
 },
 "nbformat": 4,
 "nbformat_minor": 4
}
