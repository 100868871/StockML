{
 "cells": [
  {
   "cell_type": "code",
   "execution_count": 44,
   "metadata": {},
   "outputs": [],
   "source": [
    "import datetime as dt\n",
    "import matplotlib.pyplot as plt\n",
    "from matplotlib import style\n",
    "import numpy as np\n",
    "import os\n",
    "import mplfinance as mpf\n",
    "import pandas as pd\n",
    "import pandas_datareader.data as web\n",
    "import bs4 as bs\n",
    "import pickle\n",
    "import requests\n",
    "from collections import Counter\n",
    "from sklearn import svm, neighbors\n",
    "from sklearn.model_selection import train_test_split\n",
    "from sklearn.ensemble import RandomForestClassifier"
   ]
  },
  {
   "cell_type": "code",
   "execution_count": 45,
   "metadata": {},
   "outputs": [],
   "source": [
    "# X_train, X_test, y_train, y_test = train_test_split(X,y,test_size=0.25)"
   ]
  },
  {
   "cell_type": "code",
   "execution_count": 46,
   "metadata": {},
   "outputs": [],
   "source": [
    "def process_data_dor_labels(ticker):\n",
    "    hm_days = 7\n",
    "    df = pd.read_csv('sp500tickers_joined_closes.csv', index_col=0)\n",
    "    df.columns = [x.split('.')[0] for x in df.columns]\n",
    "    tickers=df.columns.values.tolist()\n",
    "    df.fillna(0,inplace=True)\n",
    "    \n",
    "    for i in range(1,hm_days+1):\n",
    "        df['{}_{}d'.format(ticker,i)]=(df[ticker].shift(-i) - df[ticker])/df[ticker]\n",
    "        \n",
    "    df.fillna(0,inplace=True)\n",
    "    return tickers, df\n",
    "\n",
    "# process_data_dor_labels('MO')"
   ]
  },
  {
   "cell_type": "code",
   "execution_count": 47,
   "metadata": {},
   "outputs": [],
   "source": [
    "def buy_sell_hold(*args):\n",
    "    cols = [c for c in args]\n",
    "#     print(cols)\n",
    "    requirement = 0.028\n",
    "    for col in cols:\n",
    "        if col > requirement:\n",
    "            return 1\n",
    "        if col < -requirement:\n",
    "            return -1 \n",
    "    return 0 \n",
    "\n",
    "# buy_sell_hold(0.01, -0.03)"
   ]
  },
  {
   "cell_type": "code",
   "execution_count": 49,
   "metadata": {},
   "outputs": [
    {
     "name": "stdout",
     "output_type": "stream",
     "text": [
      "Data spread: Counter({'0': 2132, '1': 1256, '-1': 889})\n"
     ]
    },
    {
     "data": {
      "text/plain": [
       "Date\n",
       "2000-01-03    1\n",
       "2000-01-04    1\n",
       "2000-01-05    1\n",
       "2000-01-06    1\n",
       "2000-01-07    1\n",
       "             ..\n",
       "2016-12-23    0\n",
       "2016-12-27    0\n",
       "2016-12-28    0\n",
       "2016-12-29    0\n",
       "2016-12-30    0\n",
       "Name: MO_target, Length: 4277, dtype: int64"
      ]
     },
     "execution_count": 49,
     "metadata": {},
     "output_type": "execute_result"
    }
   ],
   "source": [
    "def extract_featuresets(ticker):\n",
    "    hm_days = 7\n",
    "    tickers, df = process_data_dor_labels(ticker)\n",
    "    \n",
    "    # if any of the price change > 0.02 in last 7 days (latest day), we buy \n",
    "    df['{}_target'.format(ticker)]=list(map(buy_sell_hold, \n",
    "                                            *[df['{}_{}d'.format(ticker, i)]for i in range(1, hm_days+1)]))\n",
    "    \n",
    "    vals = df['{}_target'.format(ticker)].values.tolist()\n",
    "    str_vals = [str(i) for i in vals]\n",
    "    print('Data spread:', Counter(str_vals))\n",
    "    \n",
    "    df.fillna(0,inplace=True)\n",
    "    df=df.replace([np.inf,-np.inf],np.nan)\n",
    "    df.dropna(inplace=True)\n",
    "    \n",
    "    df_vals = df[[ticker for ticker in tickers]].pct_change() #daiily price change for 500stocks\n",
    "    df_vals=df_vals.replace([np.inf,-np.inf], 0)\n",
    "    df_vals.fillna(0,inplace=True)\n",
    "    \n",
    "    X = df_vals.values # what the actual price change for all stocks\n",
    "    y = df['{}_target'.format(ticker)].values # what our strategy tells us to do (buy, sell,hold)\n",
    "    \n",
    "    return X, y ,df\n",
    "\n",
    "X, y ,df = extract_featuresets('MO')\n",
    "tickers, dff = process_data_dor_labels('MO')\n",
    "df['{}_target'.format('MO')]"
   ]
  },
  {
   "cell_type": "code",
   "execution_count": 38,
   "metadata": {},
   "outputs": [
    {
     "name": "stdout",
     "output_type": "stream",
     "text": [
      "Data spread: Counter({'1': 1485, '0': 1438, '-1': 1354})\n",
      "Predicted spread: Counter({0: 431, 1: 355, -1: 284})\n",
      "Accuracy: 0.4934579439252336\n"
     ]
    },
    {
     "data": {
      "text/plain": [
       "0.4934579439252336"
      ]
     },
     "execution_count": 38,
     "metadata": {},
     "output_type": "execute_result"
    }
   ],
   "source": [
    "def do_ml(ticker):\n",
    "    X, y, df = extract_featuresets(ticker)\n",
    "    \n",
    "    X_train, X_test, y_train, y_test = train_test_split(X,y,test_size=0.25)\n",
    "    \n",
    "    \n",
    "#     clf = neighbors.KNeighborsClassifier()\n",
    "#     clf = svm.LinearSVC()\n",
    "    clf = RandomForestClassifier()   # set up the classifer  \n",
    "\n",
    "    clf.fit(X_train, y_train)\n",
    "    confidence = clf.score(X_test, y_test)\n",
    "    prediction = clf.predict(X_test)\n",
    "    \n",
    "    print('Predicted spread:', Counter(prediction))\n",
    "    print('Accuracy:', confidence)\n",
    "    return confidence\n",
    "\n",
    "do_ml('BAC')"
   ]
  },
  {
   "cell_type": "code",
   "execution_count": null,
   "metadata": {},
   "outputs": [],
   "source": []
  },
  {
   "cell_type": "code",
   "execution_count": null,
   "metadata": {},
   "outputs": [],
   "source": []
  }
 ],
 "metadata": {
  "kernelspec": {
   "display_name": "Python 3",
   "language": "python",
   "name": "python3"
  },
  "language_info": {
   "codemirror_mode": {
    "name": "ipython",
    "version": 3
   },
   "file_extension": ".py",
   "mimetype": "text/x-python",
   "name": "python",
   "nbconvert_exporter": "python",
   "pygments_lexer": "ipython3",
   "version": "3.7.7"
  }
 },
 "nbformat": 4,
 "nbformat_minor": 4
}
